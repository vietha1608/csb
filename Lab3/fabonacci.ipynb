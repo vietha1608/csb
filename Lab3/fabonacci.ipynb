{
 "cells": [
  {
   "cell_type": "markdown",
   "metadata": {},
   "source": [
    "+ Dãy fabonacci bắt buộc phải có 2 phần tử đầu (1, 1)\n",
    "+ Dãy cộng dồn phần tử n + (n-1) => n + 1"
   ]
  },
  {
   "cell_type": "code",
   "execution_count": null,
   "metadata": {},
   "outputs": [],
   "source": [
    "def fabonacci_loop(arr_size) :\n",
    "    #kiểm tra điều kiện\n",
    "    if arr_size < 2 :\n",
    "        print ('Arry size need >= 2')\n",
    "        return # không chạy thêm do hàm lỗi\n",
    "    fabo = [1, 1] #dãy bắt buộc với 2 phần tử có đỉnh\n",
    "    for i in range (2, arr_size) :\n",
    "        prevValue = fabo[i - 2]\n",
    "        currValue = fabo[i - 1]\n",
    "        newValue = prevValue + currValue\n",
    "        fabo.append(newValue) # thêm phần tử cuối vào đây\n",
    "    return fabo\n",
    "fabonacci_loop(5)\n"
   ]
  }
 ],
 "metadata": {
  "kernelspec": {
   "display_name": "Python 3",
   "language": "python",
   "name": "python3"
  },
  "language_info": {
   "name": "python",
   "version": "3.13.1"
  }
 },
 "nbformat": 4,
 "nbformat_minor": 2
}
