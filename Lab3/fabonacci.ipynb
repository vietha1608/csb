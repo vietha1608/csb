{
 "cells": [
  {
   "cell_type": "markdown",
   "metadata": {},
   "source": [
    "+ Dãy fabonacci bắt buộc phải có 2 phần tử đầu (1, 1)\n",
    "+ Dãy cộng dồn phần tử n + (n-1) => n + 1"
   ]
  },
  {
   "cell_type": "code",
   "execution_count": 1,
   "metadata": {},
   "outputs": [
    {
     "data": {
      "text/plain": [
       "[1, 1, 2, 3, 5]"
      ]
     },
     "execution_count": 1,
     "metadata": {},
     "output_type": "execute_result"
    }
   ],
   "source": [
    "def fabonacci_loop(arr_size) :\n",
    "    #kiểm tra điều kiện\n",
    "    if arr_size < 2 :\n",
    "        print ('Arry size need >= 2')\n",
    "        return # không chạy thêm do hàm lỗi\n",
    "    fabo = [1, 1] #dãy bắt buộc với 2 phần tử có đỉnh\n",
    "    for i in range (2, arr_size) :\n",
    "        prevValue = fabo[i - 2]\n",
    "        currValue = fabo[i - 1]\n",
    "        newValue = prevValue + currValue\n",
    "        fabo.append(newValue) # thêm phần tử cuối vào đây\n",
    "    return fabo\n",
    "fabonacci_loop(5)\n"
   ]
  },
  {
   "cell_type": "markdown",
   "metadata": {},
   "source": [
    "## đệ quy"
   ]
  },
  {
   "cell_type": "markdown",
   "metadata": {},
   "source": [
    "+ hàm không có giá trị trả về (return)\n",
    "```python\n",
    "def func():\n",
    "    print()\n",
    "```   \n",
    "+ hàm có return/ trả về\n",
    "```python\n",
    "def sum(a, b):\n",
    "    return a + b\n",
    "```   \n",
    "\n",
    "+ hàm 1 hàng\n",
    "```python\n",
    "sum1line = lambda a, b: a + b\n",
    "```"
   ]
  },
  {
   "cell_type": "code",
   "execution_count": 3,
   "metadata": {},
   "outputs": [
    {
     "data": {
      "text/plain": [
       "[1, 1, 2, 3, 5]"
      ]
     },
     "execution_count": 3,
     "metadata": {},
     "output_type": "execute_result"
    }
   ],
   "source": [
    "def fabonacci_recursion(fabo_arr, arr_size) :\n",
    "    arr_len = len(fabo_arr) # get current aray lenght\n",
    "    \n",
    "    if arr_size < 2 :\n",
    "        print (\"array sizes needs to be >= 2\")\n",
    "        return\n",
    "    elif arr_len >= arr_size: #stop when the array reaches the desired size\n",
    "        return fabo_arr\n",
    "    else:\n",
    "        prev_value = fabo_arr[arr_len -1]\n",
    "        cur_value = fabo_arr[arr_len -2]\n",
    "        new_value = prev_value + cur_value\n",
    "        fabo_arr.append(new_value) # Append new value to list\n",
    "\n",
    "    # recursive call to continue filling the aray\n",
    "        return fabonacci_recursion(fabo_arr, arr_size)\n",
    "fabonacci_recursion([1, 1], 5)"
   ]
  }
 ],
 "metadata": {
  "kernelspec": {
   "display_name": "Python 3",
   "language": "python",
   "name": "python3"
  },
  "language_info": {
   "codemirror_mode": {
    "name": "ipython",
    "version": 3
   },
   "file_extension": ".py",
   "mimetype": "text/x-python",
   "name": "python",
   "nbconvert_exporter": "python",
   "pygments_lexer": "ipython3",
   "version": "3.13.1"
  }
 },
 "nbformat": 4,
 "nbformat_minor": 2
}
