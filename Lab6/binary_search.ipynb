{
 "cells": [
  {
   "cell_type": "code",
   "execution_count": 10,
   "metadata": {},
   "outputs": [
    {
     "data": {
      "text/plain": [
       "[94, 0, 42, 70, 60, 31, 37, 64, 14, 95, 44, 17, 8, 18, 43, 88, 9, 61, 66, 16]"
      ]
     },
     "execution_count": 10,
     "metadata": {},
     "output_type": "execute_result"
    }
   ],
   "source": [
    "#tạo danh sách bằng random\n",
    "import random\n",
    "arr = random.sample(range(100), 20)\n",
    "arr"
   ]
  },
  {
   "cell_type": "code",
   "execution_count": 11,
   "metadata": {},
   "outputs": [],
   "source": [
    "#tạo code thuật toán\n",
    "#tìm kiếm nhị phân => trả về vị trí phần tử cần tìm/ -1\n",
    "def binary_search(arr, target) -> int:\n",
    "    #sort arr\n",
    "    arr.sort()\n",
    "    left = 0\n",
    "    right = len(arr) - 1\n",
    "    while left <= right:\n",
    "        mid = (left + right) // 2 #lấy phần tử ở giữa\n",
    "        #nếu phần tử ở giữa bằng với target thì trả về vị trí\n",
    "        if arr[mid] == target:\n",
    "            return mid\n",
    "        #nếu phần tử ở giữa nhỏ hơn target thì tìm kiếm ở bên phải\n",
    "        elif arr[mid] == target:\n",
    "            left = mid + 1\n",
    "            #nếu phần tử ở giữa lớn hơn target thì tìm kiếm bên trái\n",
    "        else:\n",
    "            right = mid - 1\n",
    "    return -1#ko tìm thấy"
   ]
  },
  {
   "cell_type": "code",
   "execution_count": 12,
   "metadata": {},
   "outputs": [],
   "source": [
    "#tạo thời gian và thực thi thuật toán\n",
    "import time\n",
    "start_time = time.time() # bắt đầu đếm\n",
    "result = binary_search(arr, 35)# trường hợp xấu nhất\n",
    "end_time =time.time()# kết thúc đếm"
   ]
  },
  {
   "cell_type": "code",
   "execution_count": 13,
   "metadata": {},
   "outputs": [
    {
     "name": "stdout",
     "output_type": "stream",
     "text": [
      "Result: -1\n",
      "Time: 6.937980651855469e-05s\n"
     ]
    }
   ],
   "source": [
    "#in kết quả\n",
    "print(f\"Result: {result}\")\n",
    "print(f\"Time: {end_time - start_time}s\")"
   ]
  }
 ],
 "metadata": {
  "kernelspec": {
   "display_name": "Python 3",
   "language": "python",
   "name": "python3"
  },
  "language_info": {
   "codemirror_mode": {
    "name": "ipython",
    "version": 3
   },
   "file_extension": ".py",
   "mimetype": "text/x-python",
   "name": "python",
   "nbconvert_exporter": "python",
   "pygments_lexer": "ipython3",
   "version": "3.13.1"
  }
 },
 "nbformat": 4,
 "nbformat_minor": 2
}
