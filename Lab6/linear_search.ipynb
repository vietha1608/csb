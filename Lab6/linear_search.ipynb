{
 "cells": [
  {
   "cell_type": "code",
   "execution_count": 6,
   "metadata": {},
   "outputs": [
    {
     "data": {
      "text/plain": [
       "[19, 98, 34, 30, 59, 92, 48, 91, 43, 58, 36, 47, 10, 68, 32, 51, 81, 86, 6, 87]"
      ]
     },
     "execution_count": 6,
     "metadata": {},
     "output_type": "execute_result"
    }
   ],
   "source": [
    "import random\n",
    "arr = random.sample(range(100), 20)\n",
    "arr"
   ]
  },
  {
   "cell_type": "code",
   "execution_count": 3,
   "metadata": {},
   "outputs": [],
   "source": [
    "def linear_search(arr, target):\n",
    "    for index, value in enumerate(arr):\n",
    "        if value == target:\n",
    "            return index\n",
    "    return - 1"
   ]
  },
  {
   "cell_type": "code",
   "execution_count": 7,
   "metadata": {},
   "outputs": [],
   "source": [
    "#tạo thời gian và thực thi thuật toán\n",
    "import time\n",
    "start_time = time.time() # bắt đầu đếm\n",
    "result = linear_search(arr, 19)# trường hợp xấu nhất\n",
    "end_time =time.time()# kết thúc đếm"
   ]
  },
  {
   "cell_type": "code",
   "execution_count": 8,
   "metadata": {},
   "outputs": [
    {
     "name": "stdout",
     "output_type": "stream",
     "text": [
      "Result: 0\n",
      "Time: 3.218650817871094e-05s\n"
     ]
    }
   ],
   "source": [
    "print(f\"Result: {result}\")\n",
    "print(f\"Time: {end_time - start_time}s\")"
   ]
  }
 ],
 "metadata": {
  "kernelspec": {
   "display_name": "Python 3",
   "language": "python",
   "name": "python3"
  },
  "language_info": {
   "codemirror_mode": {
    "name": "ipython",
    "version": 3
   },
   "file_extension": ".py",
   "mimetype": "text/x-python",
   "name": "python",
   "nbconvert_exporter": "python",
   "pygments_lexer": "ipython3",
   "version": "3.13.1"
  }
 },
 "nbformat": 4,
 "nbformat_minor": 2
}
