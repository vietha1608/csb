{
 "cells": [
  {
   "cell_type": "code",
   "execution_count": 2,
   "metadata": {},
   "outputs": [
    {
     "data": {
      "text/plain": [
       "[86, 31, 45, 54, 40, 77, 41, 55, 96, 63, 95, 87, 0, 3, 70, 13, 90, 17, 56, 35]"
      ]
     },
     "execution_count": 2,
     "metadata": {},
     "output_type": "execute_result"
    }
   ],
   "source": [
    "import random\n",
    "arr = random.sample(range(100), 20)\n",
    "arr"
   ]
  },
  {
   "cell_type": "code",
   "execution_count": 3,
   "metadata": {},
   "outputs": [],
   "source": [
    "def bubble_sort(arr) ->list:\n",
    "    arr_size = len(arr)\n",
    "    for i in range(arr_size):\n",
    "        for j in range(0, arr_size-i-1):\n",
    "            if arr[j] > arr[j+1]:\n",
    "            #chuyển đổi 2 phần tử nếu phần tử sau nhỏ hơn phần tử trước\n",
    "                arr[j], arr[j+1] = arr[j+1], arr[j]\n",
    "\n",
    "    return arr"
   ]
  },
  {
   "cell_type": "code",
   "execution_count": 4,
   "metadata": {},
   "outputs": [],
   "source": [
    "import time\n",
    "start_time = time.time()\n",
    "result = bubble_sort(arr)\n",
    "end_time =time.time()"
   ]
  },
  {
   "cell_type": "code",
   "execution_count": 5,
   "metadata": {},
   "outputs": [
    {
     "name": "stdout",
     "output_type": "stream",
     "text": [
      "Result: [0, 3, 13, 17, 31, 35, 40, 41, 45, 54, 55, 56, 63, 70, 77, 86, 87, 90, 95, 96]\n",
      "Time: 9.655952453613281e-05s\n"
     ]
    }
   ],
   "source": [
    "print(f\"Result: {result}\")\n",
    "print(f\"Time: {end_time - start_time}s\")"
   ]
  }
 ],
 "metadata": {
  "kernelspec": {
   "display_name": "Python 3",
   "language": "python",
   "name": "python3"
  },
  "language_info": {
   "codemirror_mode": {
    "name": "ipython",
    "version": 3
   },
   "file_extension": ".py",
   "mimetype": "text/x-python",
   "name": "python",
   "nbconvert_exporter": "python",
   "pygments_lexer": "ipython3",
   "version": "3.13.1"
  }
 },
 "nbformat": 4,
 "nbformat_minor": 2
}
