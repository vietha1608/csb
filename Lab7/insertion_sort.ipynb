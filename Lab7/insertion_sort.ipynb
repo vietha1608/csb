{
 "cells": [
  {
   "cell_type": "code",
   "execution_count": 10,
   "metadata": {},
   "outputs": [
    {
     "data": {
      "text/plain": [
       "[66, 62, 63, 94, 88, 40, 31, 74, 99, 92, 21, 24, 7, 87, 0, 12, 57, 34, 15, 73]"
      ]
     },
     "execution_count": 10,
     "metadata": {},
     "output_type": "execute_result"
    }
   ],
   "source": [
    "import random\n",
    "arr = random.sample(range(100), 20)\n",
    "arr"
   ]
  },
  {
   "cell_type": "code",
   "execution_count": 11,
   "metadata": {},
   "outputs": [],
   "source": [
    "def insertion_sort(arr) ->list:\n",
    "    for i in range(1, len(arr)):\n",
    "        # chọn phần tử đầu tiên trong danh sách chưa sắp xếp\n",
    "        key = arr[i]\n",
    "        #đặt biến j để lấy index của những phần tử đã sắp xếp\n",
    "        j = i - 1\n",
    "        while j >= 0 and key < arr[j]:\n",
    "            arr[j + 1] = arr[j]\n",
    "            j -= 1\n",
    "        #đổi chỗ phần tử ra sau nếu không có vị trí thích hợp\n",
    "        arr[j + 1] = key\n",
    "    return arr"
   ]
  },
  {
   "cell_type": "code",
   "execution_count": 12,
   "metadata": {},
   "outputs": [],
   "source": [
    "import time\n",
    "start_time = time.time()\n",
    "result = insertion_sort(arr)\n",
    "end_time =time.time()"
   ]
  },
  {
   "cell_type": "code",
   "execution_count": 13,
   "metadata": {},
   "outputs": [
    {
     "name": "stdout",
     "output_type": "stream",
     "text": [
      "Result: [0, 7, 12, 15, 21, 24, 31, 34, 40, 57, 62, 63, 66, 73, 74, 87, 88, 92, 94, 99]\n",
      "Time: 8.153915405273438e-05s\n"
     ]
    }
   ],
   "source": [
    "print(f\"Result: {result}\")\n",
    "print(f\"Time: {end_time - start_time}s\")"
   ]
  }
 ],
 "metadata": {
  "kernelspec": {
   "display_name": "Python 3",
   "language": "python",
   "name": "python3"
  },
  "language_info": {
   "codemirror_mode": {
    "name": "ipython",
    "version": 3
   },
   "file_extension": ".py",
   "mimetype": "text/x-python",
   "name": "python",
   "nbconvert_exporter": "python",
   "pygments_lexer": "ipython3",
   "version": "3.13.1"
  }
 },
 "nbformat": 4,
 "nbformat_minor": 2
}
